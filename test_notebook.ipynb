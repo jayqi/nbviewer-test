{
 "cells": [
  {
   "cell_type": "code",
   "execution_count": 1,
   "metadata": {
    "collapsed": true
   },
   "outputs": [],
   "source": [
    "%matplotlib inline\n",
    "\n",
    "import matplotlib.pyplot as plt\n",
    "\n",
    "import numpy as np"
   ]
  },
  {
   "cell_type": "code",
   "execution_count": 2,
   "metadata": {
    "collapsed": false
   },
   "outputs": [
    {
     "name": "stdout",
     "output_type": "stream",
     "text": [
      "Hello world!\n"
     ]
    }
   ],
   "source": [
    "print('Hello world!')"
   ]
  },
  {
   "cell_type": "code",
   "execution_count": 4,
   "metadata": {
    "collapsed": false
   },
   "outputs": [],
   "source": [
    "foo = np.random.randn(100)"
   ]
  },
  {
   "cell_type": "code",
   "execution_count": 5,
   "metadata": {
    "collapsed": false
   },
   "outputs": [
    {
     "data": {
      "text/plain": [
       "array([ -1.74814159e+00,   1.96319654e-01,  -6.05383617e-01,\n",
       "        -5.93177706e-01,   5.58295420e-01,   7.87464179e-01,\n",
       "         6.32869561e-01,   7.54362384e-01,   9.42370024e-01,\n",
       "        -1.01281780e+00,  -2.41335774e-03,   9.37557328e-01,\n",
       "         2.30791683e-01,   1.68408684e-01,  -2.97718710e-01,\n",
       "        -2.64650008e-02,  -2.17818106e+00,  -2.24003401e-01,\n",
       "        -9.81055308e-01,   7.92941136e-01,   2.11781926e-01,\n",
       "         1.61139457e-01,   1.38830259e+00,  -7.37583387e-01,\n",
       "        -2.84433330e-01,   3.82989918e-01,  -1.44089271e+00,\n",
       "        -3.23747947e-01,  -9.61442675e-02,   4.01810009e-01,\n",
       "        -8.13810081e-01,   3.62564834e-01,   9.84624184e-01,\n",
       "         2.50323403e-01,   4.93013141e-01,  -1.55628683e+00,\n",
       "        -1.35226408e+00,  -4.71572282e-01,  -4.88423282e-01,\n",
       "        -1.88992158e-01,   6.90149841e-01,   2.57596848e+00,\n",
       "        -1.36723241e+00,  -2.55042530e+00,   1.30982114e+00,\n",
       "         1.35144432e+00,   2.80641714e-02,   1.23390984e+00,\n",
       "        -8.78092415e-01,  -9.10483904e-01,  -6.12911261e-01,\n",
       "        -5.47572946e-01,  -1.75811047e-01,  -3.85333942e-01,\n",
       "         1.02099798e+00,   1.60067256e+00,  -9.88261743e-01,\n",
       "        -1.11444597e+00,  -1.02136787e-01,   8.19291429e-01,\n",
       "         1.84205095e-01,  -8.47487490e-01,   5.36722747e-02,\n",
       "         1.85816027e-01,  -1.00482249e+00,  -5.91769712e-01,\n",
       "        -8.64801247e-02,  -1.65183138e-02,   4.15389889e-01,\n",
       "        -2.91943889e-01,   1.76007198e-01,   5.98018928e-01,\n",
       "        -1.70423233e+00,  -1.64074581e+00,  -1.49108334e+00,\n",
       "        -4.25164977e-01,  -1.05051987e+00,  -8.35027501e-01,\n",
       "         9.37082058e-01,  -1.00755321e+00,  -1.72943059e-01,\n",
       "         8.44159457e-01,  -3.30520187e-01,  -9.20467558e-01,\n",
       "         1.04514292e+00,  -1.38179809e+00,   8.64331383e-01,\n",
       "         1.07597013e+00,   2.00317560e+00,   1.00338442e+00,\n",
       "        -8.74043806e-01,   4.14066591e-01,   1.42439411e+00,\n",
       "        -5.08310122e-02,   3.30038252e-01,  -1.61699620e-01,\n",
       "        -4.34234380e-02,   6.46370514e-01,   3.68161352e-01,\n",
       "         6.56129552e-01])"
      ]
     },
     "execution_count": 5,
     "metadata": {},
     "output_type": "execute_result"
    }
   ],
   "source": [
    "foo"
   ]
  },
  {
   "cell_type": "code",
   "execution_count": 7,
   "metadata": {
    "collapsed": false
   },
   "outputs": [
    {
     "data": {
      "image/png": "[encoded data removed]",
      "text/plain": [
       "<matplotlib.figure.Figure at 0x10ef4cf28>"
      ]
     },
     "metadata": {},
     "output_type": "display_data"
    }
   ],
   "source": [
    "plt.hist(foo)\n",
    "pass"
   ]
  },
  {
   "cell_type": "code",
   "execution_count": null,
   "metadata": {
    "collapsed": true
   },
   "outputs": [],
   "source": []
  }
 ],
 "metadata": {
  "kernelspec": {
   "display_name": "Python [Root]",
   "language": "python",
   "name": "Python [Root]"
  },
  "language_info": {
   "codemirror_mode": {
    "name": "ipython",
    "version": 3
   },
   "file_extension": ".py",
   "mimetype": "text/x-python",
   "name": "python",
   "nbconvert_exporter": "python",
   "pygments_lexer": "ipython3",
   "version": "3.5.2"
  }
 },
 "nbformat": 4,
 "nbformat_minor": 0
}
